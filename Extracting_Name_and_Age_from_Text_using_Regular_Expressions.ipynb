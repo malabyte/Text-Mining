{
  "nbformat": 4,
  "nbformat_minor": 0,
  "metadata": {
    "colab": {
      "provenance": [],
      "include_colab_link": true
    },
    "kernelspec": {
      "name": "python3",
      "display_name": "Python 3"
    },
    "language_info": {
      "name": "python"
    }
  },
  "cells": [
    {
      "cell_type": "markdown",
      "metadata": {
        "id": "view-in-github",
        "colab_type": "text"
      },
      "source": [
        "<a href=\"https://colab.research.google.com/github/malabyte/Text-Mining/blob/main/Extracting_Name_and_Age_from_Text_using_Regular_Expressions.ipynb\" target=\"_parent\"><img src=\"https://colab.research.google.com/assets/colab-badge.svg\" alt=\"Open In Colab\"/></a>"
      ]
    },
    {
      "cell_type": "code",
      "execution_count": null,
      "metadata": {
        "id": "oS-BVTW9vSLk"
      },
      "outputs": [],
      "source": [
        "import re"
      ]
    },
    {
      "cell_type": "code",
      "source": [
        "question1 = \"Mr. Smith is a male, age 72, with Chronic Obstructive Pulmonary Disease (COPD) who over the last few weeks has been having more Shortness of Breath (SOB). He states he is unable to walk for me today because he is too tired. Therefore he needs a PMD. This document is submitted on the May 7th, 2023.\"\n",
        "question2 = \"We just admitted a patient who is between sixty five and seventy years old, with Chronic Obstructive Pulmonary Disease (COPD) who has Shortness of Breath (SOB) and is unable to talk. The patient name is unknown. Therefore he needs a PMD. This document is submitted on the May 7th, 2023.\""
      ],
      "metadata": {
        "id": "TjmrX99lzr9l"
      },
      "execution_count": null,
      "outputs": []
    },
    {
      "cell_type": "markdown",
      "source": [
        "# Question 1"
      ],
      "metadata": {
        "id": "nrFvGsoAeRdX"
      }
    },
    {
      "cell_type": "code",
      "source": [],
      "metadata": {
        "id": "0Apl8giF5o5D"
      },
      "execution_count": null,
      "outputs": []
    },
    {
      "cell_type": "code",
      "source": [
        "\"\"\"\n",
        "(?i) -> case insentive matching\n",
        "(?:Mr\\.|Mrs\\.|Ms\\.) -> Matches Mr., Mrs., or Ms.\n",
        "\\s+ - matches one or more whitespace chars\n",
        "([A-Z][a-zA-Z]+) - captures a name w/ uppercase letter and by one or more letters, case insensitive\n",
        "\"\"\"\n",
        "patternName = \"(?i)(?:Mr\\.|Mrs\\.|Ms\\.)\\s+([A-Z][a-zA-Z]+)\"\n",
        "\n",
        "\"\"\"\n",
        "(?i)- > case insensitive matching\n",
        "(?:is a| who is between |, age) - matches the phrases \"is a\", \"who is between\", \"or\", \"age\"\n",
        "\\s+ - MAtches one or more whitespace chars\n",
        "(\\d+) - one or more digits (0-9) for age\n",
        "\"\"\"\n",
        "patternAge1 = \"(?i)(?:is a| who is between|, age)\\s+(\\d+)\""
      ],
      "metadata": {
        "id": "4SL4qJhUzzEg"
      },
      "execution_count": null,
      "outputs": []
    },
    {
      "cell_type": "code",
      "source": [
        "# Find the name in the first question\n",
        "findName = re.search(patternName, question1)\n",
        "# Find the age in the first question\n",
        "findAge = re.search(patternAge1, question1)\n",
        "\n",
        "# If name is found\n",
        "# Assign it to the name variable or set it to None\n",
        "if findName:\n",
        "  name = findName.group(1)\n",
        "else:\n",
        "  name = None\n",
        "# If age is found\n",
        "# Assign it to the constantAge variable or set it to None\n",
        "if findAge:\n",
        "  constantAge = findAge.group(1)\n",
        "else:\n",
        "  constantAge  = None\n",
        "\n",
        "# Print the information\n",
        "print(\"Name:\\t\",name)\n",
        "if constantAge is not None:\n",
        "  print(\"Age:\\t\",constantAge)"
      ],
      "metadata": {
        "colab": {
          "base_uri": "https://localhost:8080/"
        },
        "id": "zujtEqkA17Ec",
        "outputId": "ef37ff4e-4116-4bbe-883b-6cd24495d7f2"
      },
      "execution_count": null,
      "outputs": [
        {
          "output_type": "stream",
          "name": "stdout",
          "text": [
            "Name:\t Smith\n",
            "Age:\t 72\n"
          ]
        }
      ]
    },
    {
      "cell_type": "markdown",
      "source": [
        "# Question 2."
      ],
      "metadata": {
        "id": "UX2rXNckejAo"
      }
    },
    {
      "cell_type": "code",
      "source": [
        "\"\"\"\n",
        "(?i) - case insensitve matching\n",
        "(?:is a| who is between, age) - matches the phrasing \"is a\", \"who is between\", or \"age\"\n",
        "\\s+ - matches one or more whitespace chars\n",
        "(\\d+|[a-zA-Z]+\\s+[a-zA-Z]+) - captures digits (0-9) for age, also capturing two words separated by whitespace\n",
        "\\s+ - matches one or more whitespace chars (1)\n",
        "(and) - matches the word 'and'\n",
        "\\s+ - matches one or more whitespace chars (2)\n",
        "([a-zA-Z]+) - captures one or more letters, case insensitive, for the age of the range.\n",
        "\"\"\"\n",
        "patternAge2 = \"(?i)(?:is a| who is between|, age)\\s+(\\d+|[a-zA-Z]+\\s+[a-zA-Z]+)\\s+(and)\\s+([a-zA-Z]+)\""
      ],
      "metadata": {
        "id": "-WDQ6NV_eVta"
      },
      "execution_count": null,
      "outputs": []
    },
    {
      "cell_type": "code",
      "source": [
        "# Find the name in the second question\n",
        "findName = re.search(patternName, question2)\n",
        "# Find the age range in the second question\n",
        "findAge = re.search(patternAge2, question2)\n",
        "\n",
        "# If name is found, assign it to the name variable\n",
        "# Otherwise set it to None\n",
        "if findName:\n",
        "  name = findName.group(1)\n",
        "else:\n",
        "  name = None\n",
        "\n",
        "# If age range is found, assign the start and end to their respective variables\n",
        "if findAge:\n",
        "  # Check if the start age group is not None\n",
        "  # Assign it to startAgeRange\n",
        "  if findAge.group(1) is not None:\n",
        "    startAgeRange = findAge.group(1)\n",
        "  # Check if the end age group is not None\n",
        "  # Assign it to endAgeRange\n",
        "  if findAge.group(3) is not None:\n",
        "    endAgeRange = findAge.group(3)\n",
        "\n",
        "# Print the information.\n",
        "print(\"Name:\\t\",name)\n",
        "if startAgeRange is not None:\n",
        "  print(\"Start Age:\\t  \", startAgeRange)\n",
        "if endAgeRange is not None:\n",
        "  print(\"End Age:\\t   \", endAgeRange)\n",
        "\n",
        "# I could not figure out how to turn these words into integers without it spilling. my apologies. I need more time."
      ],
      "metadata": {
        "colab": {
          "base_uri": "https://localhost:8080/"
        },
        "id": "Vd8ux9OweWdI",
        "outputId": "30c7a74d-cea6-4eb6-da41-c4b41d79d853"
      },
      "execution_count": null,
      "outputs": [
        {
          "output_type": "stream",
          "name": "stdout",
          "text": [
            "Name:\t None\n",
            "Start Age:\t   sixty five\n",
            "End Age:\t    seventy\n"
          ]
        }
      ]
    }
  ]
}