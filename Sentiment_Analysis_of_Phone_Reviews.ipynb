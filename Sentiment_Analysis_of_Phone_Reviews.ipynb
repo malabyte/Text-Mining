{
  "cells": [
    {
      "cell_type": "markdown",
      "metadata": {
        "id": "view-in-github",
        "colab_type": "text"
      },
      "source": [
        "<a href=\"https://colab.research.google.com/github/malabyte/Text-Mining-Analytics/blob/main/Sentiment_Analysis_of_Phone_Reviews.ipynb\" target=\"_parent\"><img src=\"https://colab.research.google.com/assets/colab-badge.svg\" alt=\"Open In Colab\"/></a>"
      ]
    },
    {
      "cell_type": "code",
      "execution_count": null,
      "metadata": {
        "id": "D-KpQJ1_XhfO"
      },
      "outputs": [],
      "source": [
        "import pandas as pd  # 'pandas' library\n",
        "import sys  # 'sys' module\n",
        "import re  # 're' module for regular expressions\n",
        "from nltk.tokenize import word_tokenize  #'word_tokenize' function from 'nltk.tokenize' to tokenize words\n",
        "from nltk.corpus import stopwords  # 'stopwords' from 'nltk.corpus' module\n",
        "from nltk.sentiment import SentimentIntensityAnalyzer  # 'SentimentIntensityAnalyzer' class from 'nltk.sentiment' module"
      ]
    },
    {
      "cell_type": "code",
      "execution_count": null,
      "metadata": {
        "id": "JXBkPE7NXhfX"
      },
      "outputs": [],
      "source": [
        "# Read the 'PhoneReviews' file and store the xlsx file in data\n",
        "data = pd.read_excel('PhoneReviews.xlsx')\n",
        "# Create a new df of 'PhoneReviews'\n",
        "PhoneReviews_df = data[['Product Name', 'Reviews','Rating']]"
      ]
    },
    {
      "cell_type": "code",
      "execution_count": null,
      "metadata": {
        "id": "QDUyiXZBXhfY",
        "outputId": "c54618f4-726d-46e5-a966-a82e395c20b0"
      },
      "outputs": [
        {
          "data": {
            "text/html": [
              "<div>\n",
              "<style scoped>\n",
              "    .dataframe tbody tr th:only-of-type {\n",
              "        vertical-align: middle;\n",
              "    }\n",
              "\n",
              "    .dataframe tbody tr th {\n",
              "        vertical-align: top;\n",
              "    }\n",
              "\n",
              "    .dataframe thead th {\n",
              "        text-align: right;\n",
              "    }\n",
              "</style>\n",
              "<table border=\"1\" class=\"dataframe\">\n",
              "  <thead>\n",
              "    <tr style=\"text-align: right;\">\n",
              "      <th></th>\n",
              "      <th>Product Name</th>\n",
              "      <th>Brand Name</th>\n",
              "      <th>Price</th>\n",
              "      <th>Rating</th>\n",
              "      <th>Reviews</th>\n",
              "      <th>Review Votes</th>\n",
              "    </tr>\n",
              "  </thead>\n",
              "  <tbody>\n",
              "    <tr>\n",
              "      <th>0</th>\n",
              "      <td>\"CLEAR CLEAN ESN\" Sprint EPIC 4G Galaxy SPH-D7...</td>\n",
              "      <td>Samsung</td>\n",
              "      <td>199.99</td>\n",
              "      <td>5</td>\n",
              "      <td>I feel so LUCKY to have found this used (phone...</td>\n",
              "      <td>1</td>\n",
              "    </tr>\n",
              "    <tr>\n",
              "      <th>1</th>\n",
              "      <td>\"CLEAR CLEAN ESN\" Sprint EPIC 4G Galaxy SPH-D7...</td>\n",
              "      <td>Samsung</td>\n",
              "      <td>199.99</td>\n",
              "      <td>4</td>\n",
              "      <td>nice phone, nice up grade from my pantach revu...</td>\n",
              "      <td>0</td>\n",
              "    </tr>\n",
              "    <tr>\n",
              "      <th>2</th>\n",
              "      <td>\"CLEAR CLEAN ESN\" Sprint EPIC 4G Galaxy SPH-D7...</td>\n",
              "      <td>Samsung</td>\n",
              "      <td>199.99</td>\n",
              "      <td>5</td>\n",
              "      <td>Very pleased</td>\n",
              "      <td>0</td>\n",
              "    </tr>\n",
              "    <tr>\n",
              "      <th>3</th>\n",
              "      <td>\"CLEAR CLEAN ESN\" Sprint EPIC 4G Galaxy SPH-D7...</td>\n",
              "      <td>Samsung</td>\n",
              "      <td>199.99</td>\n",
              "      <td>4</td>\n",
              "      <td>It works good but it goes slow sometimes but i...</td>\n",
              "      <td>0</td>\n",
              "    </tr>\n",
              "    <tr>\n",
              "      <th>4</th>\n",
              "      <td>\"CLEAR CLEAN ESN\" Sprint EPIC 4G Galaxy SPH-D7...</td>\n",
              "      <td>Samsung</td>\n",
              "      <td>199.99</td>\n",
              "      <td>4</td>\n",
              "      <td>Great phone to replace my lost phone. The only...</td>\n",
              "      <td>0</td>\n",
              "    </tr>\n",
              "  </tbody>\n",
              "</table>\n",
              "</div>"
            ],
            "text/plain": [
              "                                        Product Name Brand Name   Price  \\\n",
              "0  \"CLEAR CLEAN ESN\" Sprint EPIC 4G Galaxy SPH-D7...    Samsung  199.99   \n",
              "1  \"CLEAR CLEAN ESN\" Sprint EPIC 4G Galaxy SPH-D7...    Samsung  199.99   \n",
              "2  \"CLEAR CLEAN ESN\" Sprint EPIC 4G Galaxy SPH-D7...    Samsung  199.99   \n",
              "3  \"CLEAR CLEAN ESN\" Sprint EPIC 4G Galaxy SPH-D7...    Samsung  199.99   \n",
              "4  \"CLEAR CLEAN ESN\" Sprint EPIC 4G Galaxy SPH-D7...    Samsung  199.99   \n",
              "\n",
              "   Rating                                            Reviews  Review Votes  \n",
              "0       5  I feel so LUCKY to have found this used (phone...             1  \n",
              "1       4  nice phone, nice up grade from my pantach revu...             0  \n",
              "2       5                                       Very pleased             0  \n",
              "3       4  It works good but it goes slow sometimes but i...             0  \n",
              "4       4  Great phone to replace my lost phone. The only...             0  "
            ]
          },
          "execution_count": 22,
          "metadata": {},
          "output_type": "execute_result"
        }
      ],
      "source": [
        "# Display first few rows of data\n",
        "data.head()"
      ]
    },
    {
      "cell_type": "code",
      "execution_count": null,
      "metadata": {
        "id": "ohoTKQZXXhfb"
      },
      "outputs": [],
      "source": [
        "# This function maps a rating to a corresponding sentiment category\n",
        "\n",
        "def get_sentiment_category(rating):\n",
        "    # If the rating is 5, it represents a highly positive sentiment\n",
        "    if rating == 5:\n",
        "        return 'very happy'\n",
        "\n",
        "    # If the rating is 4, it represents a positive sentiment\n",
        "    elif rating == 4:\n",
        "        return 'happy'\n",
        "\n",
        "    # If the rating is 3, it represents a neutral sentiment\n",
        "    elif rating == 3:\n",
        "        return 'neutral'\n",
        "\n",
        "    # If the rating is 2, it represents a negative sentiment\n",
        "    elif rating == 2:\n",
        "        return 'unhappy'\n",
        "\n",
        "    # If the rating is 1, it represents a highly negative sentiment\n",
        "    elif rating == 1:\n",
        "        return 'very unhappy'"
      ]
    },
    {
      "cell_type": "code",
      "execution_count": null,
      "metadata": {
        "id": "kNaGYtHFXhfc",
        "outputId": "b2de9714-7751-4bd1-aacb-d272cb8cb0d7"
      },
      "outputs": [
        {
          "name": "stderr",
          "output_type": "stream",
          "text": [
            "C:\\Users\\hateo\\AppData\\Local\\Temp\\ipykernel_7112\\3344980887.py:2: SettingWithCopyWarning: \n",
            "A value is trying to be set on a copy of a slice from a DataFrame.\n",
            "Try using .loc[row_indexer,col_indexer] = value instead\n",
            "\n",
            "See the caveats in the documentation: https://pandas.pydata.org/pandas-docs/stable/user_guide/indexing.html#returning-a-view-versus-a-copy\n",
            "  PhoneReviews_df['Sentiment'] = PhoneReviews_df['Rating'].apply(get_sentiment_category)\n"
          ]
        }
      ],
      "source": [
        "# Assign sentiment categories from the 'Rating' column using the 'get_sentiment_category' function\n",
        "PhoneReviews_df['Sentiment'] = PhoneReviews_df['Rating'].apply(get_sentiment_category)"
      ]
    },
    {
      "cell_type": "code",
      "execution_count": null,
      "metadata": {
        "id": "4YwEtLKbXhfd",
        "outputId": "6fdbf53e-89eb-475f-cd6d-6c5886efaa6c"
      },
      "outputs": [
        {
          "data": {
            "text/html": [
              "<div>\n",
              "<style scoped>\n",
              "    .dataframe tbody tr th:only-of-type {\n",
              "        vertical-align: middle;\n",
              "    }\n",
              "\n",
              "    .dataframe tbody tr th {\n",
              "        vertical-align: top;\n",
              "    }\n",
              "\n",
              "    .dataframe thead th {\n",
              "        text-align: right;\n",
              "    }\n",
              "</style>\n",
              "<table border=\"1\" class=\"dataframe\">\n",
              "  <thead>\n",
              "    <tr style=\"text-align: right;\">\n",
              "      <th></th>\n",
              "      <th>Product Name</th>\n",
              "      <th>Reviews</th>\n",
              "      <th>Rating</th>\n",
              "      <th>Sentiment</th>\n",
              "    </tr>\n",
              "  </thead>\n",
              "  <tbody>\n",
              "    <tr>\n",
              "      <th>0</th>\n",
              "      <td>\"CLEAR CLEAN ESN\" Sprint EPIC 4G Galaxy SPH-D7...</td>\n",
              "      <td>I feel so LUCKY to have found this used (phone...</td>\n",
              "      <td>5</td>\n",
              "      <td>very happy</td>\n",
              "    </tr>\n",
              "    <tr>\n",
              "      <th>1</th>\n",
              "      <td>\"CLEAR CLEAN ESN\" Sprint EPIC 4G Galaxy SPH-D7...</td>\n",
              "      <td>nice phone, nice up grade from my pantach revu...</td>\n",
              "      <td>4</td>\n",
              "      <td>happy</td>\n",
              "    </tr>\n",
              "    <tr>\n",
              "      <th>2</th>\n",
              "      <td>\"CLEAR CLEAN ESN\" Sprint EPIC 4G Galaxy SPH-D7...</td>\n",
              "      <td>Very pleased</td>\n",
              "      <td>5</td>\n",
              "      <td>very happy</td>\n",
              "    </tr>\n",
              "    <tr>\n",
              "      <th>3</th>\n",
              "      <td>\"CLEAR CLEAN ESN\" Sprint EPIC 4G Galaxy SPH-D7...</td>\n",
              "      <td>It works good but it goes slow sometimes but i...</td>\n",
              "      <td>4</td>\n",
              "      <td>happy</td>\n",
              "    </tr>\n",
              "    <tr>\n",
              "      <th>4</th>\n",
              "      <td>\"CLEAR CLEAN ESN\" Sprint EPIC 4G Galaxy SPH-D7...</td>\n",
              "      <td>Great phone to replace my lost phone. The only...</td>\n",
              "      <td>4</td>\n",
              "      <td>happy</td>\n",
              "    </tr>\n",
              "  </tbody>\n",
              "</table>\n",
              "</div>"
            ],
            "text/plain": [
              "                                        Product Name  \\\n",
              "0  \"CLEAR CLEAN ESN\" Sprint EPIC 4G Galaxy SPH-D7...   \n",
              "1  \"CLEAR CLEAN ESN\" Sprint EPIC 4G Galaxy SPH-D7...   \n",
              "2  \"CLEAR CLEAN ESN\" Sprint EPIC 4G Galaxy SPH-D7...   \n",
              "3  \"CLEAR CLEAN ESN\" Sprint EPIC 4G Galaxy SPH-D7...   \n",
              "4  \"CLEAR CLEAN ESN\" Sprint EPIC 4G Galaxy SPH-D7...   \n",
              "\n",
              "                                             Reviews  Rating   Sentiment  \n",
              "0  I feel so LUCKY to have found this used (phone...       5  very happy  \n",
              "1  nice phone, nice up grade from my pantach revu...       4       happy  \n",
              "2                                       Very pleased       5  very happy  \n",
              "3  It works good but it goes slow sometimes but i...       4       happy  \n",
              "4  Great phone to replace my lost phone. The only...       4       happy  "
            ]
          },
          "execution_count": 27,
          "metadata": {},
          "output_type": "execute_result"
        }
      ],
      "source": [
        "# Display first few rows of data\n",
        "PhoneReviews_df.head()"
      ]
    },
    {
      "cell_type": "code",
      "execution_count": null,
      "metadata": {
        "id": "Ci9-xdhtXhff"
      },
      "outputs": [],
      "source": [
        "# Convert the 'Reviews' column of the df to a list\n",
        "corpus = PhoneReviews_df['Reviews'].tolist()"
      ]
    },
    {
      "cell_type": "code",
      "execution_count": null,
      "metadata": {
        "id": "Qar3dfl0Xhfg",
        "outputId": "31ecd42d-c9cc-44cd-a978-35728907b728"
      },
      "outputs": [
        {
          "name": "stdout",
          "output_type": "stream",
          "text": [
            "                                             Reviews\n",
            "0  i feel so lucky to have found this used phone ...\n",
            "1  nice phone nice up grade from my pantach revue...\n",
            "2                                       very pleased\n",
            "3  it works good but it goes slow sometimes but i...\n",
            "4  great phone to replace my lost phone the only ...\n"
          ]
        }
      ],
      "source": [
        "def clean_text(text):\n",
        "    text = text.lower()  # Convert to lowercase\n",
        "    text = re.sub(r'\\s+', ' ', text)  # Remove extra white spaces\n",
        "    text = re.sub(r'<.*?>', '', text)  # Remove HTML tags\n",
        "    text = re.sub(r'[^a-zA-Z\\s]', '', text)  # Remove special characters\n",
        "    return text\n",
        "\n",
        "# Clean the corpus using the 'clean_text' function\n",
        "cleaned_corpus = [clean_text(text) for text in corpus]\n",
        "\n",
        "# Create a new df 'cleaned_corpus_df' w/ the cleaned revew texts\n",
        "cleaned_corpus_df = pd.DataFrame({'Reviews': cleaned_corpus})\n",
        "\n",
        "# Display the first few rows of the new cleaned df 'cleaned_corpus_df'\n",
        "print(cleaned_corpus_df.head())"
      ]
    },
    {
      "cell_type": "code",
      "execution_count": null,
      "metadata": {
        "id": "E1MEv58ZXhfh",
        "outputId": "45646fcb-0dc0-43f1-d2c4-da92539321c3"
      },
      "outputs": [
        {
          "name": "stderr",
          "output_type": "stream",
          "text": [
            "[nltk_data] Downloading package punkt to\n",
            "[nltk_data]     C:\\Users\\hateo\\AppData\\Roaming\\nltk_data...\n",
            "[nltk_data]   Package punkt is already up-to-date!\n"
          ]
        },
        {
          "data": {
            "text/plain": [
              "True"
            ]
          },
          "execution_count": 32,
          "metadata": {},
          "output_type": "execute_result"
        }
      ],
      "source": [
        "import nltk  # Import the nltk library\n",
        "nltk.download('punkt')  # Download the required resources for tokenization"
      ]
    },
    {
      "cell_type": "code",
      "execution_count": null,
      "metadata": {
        "id": "F79zmHItXhfi"
      },
      "outputs": [],
      "source": [
        "stop_words = set(stopwords.words('english'))  # Set of stopwords in English\n",
        "\n",
        "def normalize_text(text):\n",
        "    tokens = word_tokenize(text)  # Tokenize the text into individual words\n",
        "    tokens = [token for token in tokens if token not in stop_words]  # Remove stopwords from the tokens\n",
        "    return ' '.join(tokens)  # Join the tokens back into a single string\n",
        "\n",
        "# Normalize the cleaned corpus of review texts using the 'normalize_text' function\n",
        "normalized_corpus = [normalize_text(text) for text in cleaned_corpus]\n",
        "\n",
        "# Create a new DataFrame 'normalized_corpus_df' with the normalized review texts\n",
        "normalized_corpus_df = pd.DataFrame({'Reviews': normalized_corpus})\n"
      ]
    },
    {
      "cell_type": "code",
      "execution_count": null,
      "metadata": {
        "id": "DYqILXnXXhfk",
        "outputId": "a6506f00-19f8-4bb0-aa26-ca19b422946b"
      },
      "outputs": [
        {
          "data": {
            "text/html": [
              "<div>\n",
              "<style scoped>\n",
              "    .dataframe tbody tr th:only-of-type {\n",
              "        vertical-align: middle;\n",
              "    }\n",
              "\n",
              "    .dataframe tbody tr th {\n",
              "        vertical-align: top;\n",
              "    }\n",
              "\n",
              "    .dataframe thead th {\n",
              "        text-align: right;\n",
              "    }\n",
              "</style>\n",
              "<table border=\"1\" class=\"dataframe\">\n",
              "  <thead>\n",
              "    <tr style=\"text-align: right;\">\n",
              "      <th></th>\n",
              "      <th>Reviews</th>\n",
              "    </tr>\n",
              "  </thead>\n",
              "  <tbody>\n",
              "    <tr>\n",
              "      <th>0</th>\n",
              "      <td>feel lucky found used phone us used hard phone...</td>\n",
              "    </tr>\n",
              "    <tr>\n",
              "      <th>1</th>\n",
              "      <td>nice phone nice grade pantach revue clean set ...</td>\n",
              "    </tr>\n",
              "    <tr>\n",
              "      <th>2</th>\n",
              "      <td>pleased</td>\n",
              "    </tr>\n",
              "    <tr>\n",
              "      <th>3</th>\n",
              "      <td>works good goes slow sometimes good phone love</td>\n",
              "    </tr>\n",
              "    <tr>\n",
              "      <th>4</th>\n",
              "      <td>great phone replace lost phone thing volume bu...</td>\n",
              "    </tr>\n",
              "    <tr>\n",
              "      <th>5</th>\n",
              "      <td>already phone problems know stated used dang s...</td>\n",
              "    </tr>\n",
              "    <tr>\n",
              "      <th>6</th>\n",
              "      <td>charging port loose got soldered needed new ba...</td>\n",
              "    </tr>\n",
              "    <tr>\n",
              "      <th>7</th>\n",
              "      <td>phone looks good wouldnt stay charged buy new ...</td>\n",
              "    </tr>\n",
              "    <tr>\n",
              "      <th>8</th>\n",
              "      <td>originally using samsung galaxy sprint wanted ...</td>\n",
              "    </tr>\n",
              "    <tr>\n",
              "      <th>9</th>\n",
              "      <td>battery life great responsive touch issue some...</td>\n",
              "    </tr>\n",
              "    <tr>\n",
              "      <th>10</th>\n",
              "      <td>fiance phone previously caused many problems c...</td>\n",
              "    </tr>\n",
              "    <tr>\n",
              "      <th>11</th>\n",
              "      <td>great product came two days ordering one littl...</td>\n",
              "    </tr>\n",
              "    <tr>\n",
              "      <th>12</th>\n",
              "      <td>guys best little situation item quickly fixed ...</td>\n",
              "    </tr>\n",
              "    <tr>\n",
              "      <th>13</th>\n",
              "      <td>im really disappointed phone service phone wen...</td>\n",
              "    </tr>\n",
              "    <tr>\n",
              "      <th>14</th>\n",
              "      <td>ordered phone replacement model contract expir...</td>\n",
              "    </tr>\n",
              "    <tr>\n",
              "      <th>15</th>\n",
              "      <td>phone loved working got phone one thing sd car...</td>\n",
              "    </tr>\n",
              "    <tr>\n",
              "      <th>16</th>\n",
              "      <td>able get phone previously ownedwith keyboard t...</td>\n",
              "    </tr>\n",
              "    <tr>\n",
              "      <th>17</th>\n",
              "      <td>brought phone replacement daughter hard cell p...</td>\n",
              "    </tr>\n",
              "    <tr>\n",
              "      <th>18</th>\n",
              "      <td>love phone everything need works great purchas...</td>\n",
              "    </tr>\n",
              "    <tr>\n",
              "      <th>19</th>\n",
              "      <td>unfortunately sprint could activate phone due ...</td>\n",
              "    </tr>\n",
              "  </tbody>\n",
              "</table>\n",
              "</div>"
            ],
            "text/plain": [
              "                                              Reviews\n",
              "0   feel lucky found used phone us used hard phone...\n",
              "1   nice phone nice grade pantach revue clean set ...\n",
              "2                                             pleased\n",
              "3      works good goes slow sometimes good phone love\n",
              "4   great phone replace lost phone thing volume bu...\n",
              "5   already phone problems know stated used dang s...\n",
              "6   charging port loose got soldered needed new ba...\n",
              "7   phone looks good wouldnt stay charged buy new ...\n",
              "8   originally using samsung galaxy sprint wanted ...\n",
              "9   battery life great responsive touch issue some...\n",
              "10  fiance phone previously caused many problems c...\n",
              "11  great product came two days ordering one littl...\n",
              "12  guys best little situation item quickly fixed ...\n",
              "13  im really disappointed phone service phone wen...\n",
              "14  ordered phone replacement model contract expir...\n",
              "15  phone loved working got phone one thing sd car...\n",
              "16  able get phone previously ownedwith keyboard t...\n",
              "17  brought phone replacement daughter hard cell p...\n",
              "18  love phone everything need works great purchas...\n",
              "19  unfortunately sprint could activate phone due ..."
            ]
          },
          "execution_count": 37,
          "metadata": {},
          "output_type": "execute_result"
        }
      ],
      "source": [
        "# Save the new normalized df as a csv file\n",
        "normalized_corpus_df.to_csv('PhoneReviews_normal.csv', index=False)\n",
        "normalized_corpus_df"
      ]
    },
    {
      "cell_type": "code",
      "execution_count": null,
      "metadata": {
        "id": "sZ7fWEsbXhfk",
        "outputId": "df49a487-b5fa-431c-92e3-5af813b71baf"
      },
      "outputs": [
        {
          "name": "stderr",
          "output_type": "stream",
          "text": [
            "[nltk_data] Downloading package vader_lexicon to\n",
            "[nltk_data]     C:\\Users\\hateo\\AppData\\Roaming\\nltk_data...\n",
            "[nltk_data]   Package vader_lexicon is already up-to-date!\n"
          ]
        },
        {
          "data": {
            "text/plain": [
              "True"
            ]
          },
          "execution_count": 38,
          "metadata": {},
          "output_type": "execute_result"
        }
      ],
      "source": [
        "import nltk # Import the nltk library\n",
        "nltk.download('vader_lexicon') # Download the 'vader_lexicon' for sentiment analysis"
      ]
    },
    {
      "cell_type": "code",
      "execution_count": null,
      "metadata": {
        "id": "E7lvs_xqXhfl",
        "outputId": "5873f47d-eb32-438c-cf86-9e225f203ca8"
      },
      "outputs": [
        {
          "name": "stderr",
          "output_type": "stream",
          "text": [
            "C:\\Users\\hateo\\AppData\\Local\\Temp\\ipykernel_7112\\1890404139.py:7: SettingWithCopyWarning: \n",
            "A value is trying to be set on a copy of a slice from a DataFrame.\n",
            "Try using .loc[row_indexer,col_indexer] = value instead\n",
            "\n",
            "See the caveats in the documentation: https://pandas.pydata.org/pandas-docs/stable/user_guide/indexing.html#returning-a-view-versus-a-copy\n",
            "  PhoneReviews_df['Sentiment Score'] = PhoneReviews_df['Reviews'].apply(get_sentiment_score)\n"
          ]
        }
      ],
      "source": [
        "# Creating an instance of the S.I.A class\n",
        "sia = SentimentIntensityAnalyzer()\n",
        "\n",
        "def get_sentiment_score(text): # sentiment scores are calculated\n",
        "    sentiment = sia.polarity_scores(text) # Calculates the compound sentiment score\n",
        "    return sentiment['compound']\n",
        "\n",
        "# 'get_sentiment_score' function used for the 'Reviews' column and is applied to the 'Sentiment Score' column\n",
        "PhoneReviews_df['Sentiment Score'] = PhoneReviews_df['Reviews'].apply(get_sentiment_score)"
      ]
    },
    {
      "cell_type": "code",
      "execution_count": null,
      "metadata": {
        "id": "4jEtr2K4Xhfm"
      },
      "outputs": [],
      "source": [
        "PhoneReviews_df.to_csv('Sentiments.csv', index=False)"
      ]
    },
    {
      "cell_type": "code",
      "execution_count": null,
      "metadata": {
        "id": "mUeePa3WXhfn"
      },
      "outputs": [],
      "source": []
    }
  ],
  "metadata": {
    "kernelspec": {
      "display_name": "Python 3 (ipykernel)",
      "language": "python",
      "name": "python3"
    },
    "language_info": {
      "codemirror_mode": {
        "name": "ipython",
        "version": 3
      },
      "file_extension": ".py",
      "mimetype": "text/x-python",
      "name": "python",
      "nbconvert_exporter": "python",
      "pygments_lexer": "ipython3",
      "version": "3.10.9"
    },
    "colab": {
      "provenance": [],
      "include_colab_link": true
    }
  },
  "nbformat": 4,
  "nbformat_minor": 0
}