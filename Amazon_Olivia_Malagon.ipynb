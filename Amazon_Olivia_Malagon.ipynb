{
  "nbformat": 4,
  "nbformat_minor": 0,
  "metadata": {
    "colab": {
      "provenance": [],
      "include_colab_link": true
    },
    "kernelspec": {
      "name": "python3",
      "display_name": "Python 3"
    },
    "language_info": {
      "name": "python"
    }
  },
  "cells": [
    {
      "cell_type": "markdown",
      "metadata": {
        "id": "view-in-github",
        "colab_type": "text"
      },
      "source": [
        "<a href=\"https://colab.research.google.com/github/malabyte/Text-Mining-Analytics/blob/main/Amazon_Olivia_Malagon.ipynb\" target=\"_parent\"><img src=\"https://colab.research.google.com/assets/colab-badge.svg\" alt=\"Open In Colab\"/></a>"
      ]
    },
    {
      "cell_type": "code",
      "source": [
        "# Read file\n",
        "import pandas as pd\n",
        "# Clean text\n",
        "import re\n",
        "# NLTK library for NLP\n",
        "import nltk\n",
        "# Import stopwords corpus\n",
        "from nltk.corpus import stopwords\n",
        "# Download the corpus command\n",
        "nltk.download('stopwords')"
      ],
      "metadata": {
        "id": "gqH_im7Z3OSO",
        "colab": {
          "base_uri": "https://localhost:8080/"
        },
        "outputId": "07051b8e-08da-438c-e547-64783f4d7f6a"
      },
      "execution_count": 10,
      "outputs": [
        {
          "output_type": "stream",
          "name": "stderr",
          "text": [
            "[nltk_data] Downloading package stopwords to /root/nltk_data...\n",
            "[nltk_data]   Unzipping corpora/stopwords.zip.\n"
          ]
        },
        {
          "output_type": "execute_result",
          "data": {
            "text/plain": [
              "True"
            ]
          },
          "metadata": {},
          "execution_count": 10
        }
      ]
    },
    {
      "cell_type": "code",
      "source": [
        "colnames=['Polarity', 'Heading', 'Body']\n",
        "df = pd.read_csv('Train2.csv', names=colnames, header=None)\n",
        "# Only print the head of the df\n",
        "print(df.head())\n",
        "# Body of text located in 'reviews'\n",
        "reviews = df['Body']\n",
        "\n"
      ],
      "metadata": {
        "id": "kKJ6o-f_3OKy",
        "outputId": "a813985a-c72e-43b7-f0ea-e167e29dceb4",
        "colab": {
          "base_uri": "https://localhost:8080/"
        }
      },
      "execution_count": 5,
      "outputs": [
        {
          "output_type": "stream",
          "name": "stdout",
          "text": [
            "   Polarity                                            Heading  \\\n",
            "0         2                     Stuning even for the non-gamer   \n",
            "1         2              The best soundtrack ever to anything.   \n",
            "2         2                                           Amazing!   \n",
            "3         2                               Excellent Soundtrack   \n",
            "4         2  Remember, Pull Your Jaw Off The Floor After He...   \n",
            "\n",
            "                                                Body  \n",
            "0  This sound track was beautiful! It paints the ...  \n",
            "1  I'm reading a lot of reviews saying that this ...  \n",
            "2  This soundtrack is my favorite music of all ti...  \n",
            "3  I truly like this soundtrack and I enjoy video...  \n",
            "4  If you've played the game, you know how divine...  \n"
          ]
        }
      ]
    },
    {
      "cell_type": "code",
      "source": [
        "# Define 'clean_text' to commence the cleaning\n",
        "def clean_text(text):\n",
        "    # Remove unwanted characters, punct, and integers\n",
        "    cleaned_text = re.sub(r'[^A-Za-z\\s]', '', text)\n",
        "    return cleaned_text\n",
        "\n",
        "# Apply the cleaning function to the cleaned reviews\n",
        "cleaned_reviews = reviews.apply(clean_text)\n",
        "print(cleaned_reviews)"
      ],
      "metadata": {
        "id": "CbdLqKZV3OA8",
        "colab": {
          "base_uri": "https://localhost:8080/"
        },
        "outputId": "dafbb648-0003-4d3d-ba3b-cf314559fa9e"
      },
      "execution_count": 14,
      "outputs": [
        {
          "output_type": "stream",
          "name": "stdout",
          "text": [
            "0       This sound track was beautiful It paints the s...\n",
            "1       Im reading a lot of reviews saying that this i...\n",
            "2       This soundtrack is my favorite music of all ti...\n",
            "3       I truly like this soundtrack and I enjoy video...\n",
            "4       If youve played the game you know how divine t...\n",
            "                              ...                        \n",
            "3265    ELECTRIC SYKCHURCH IS A WONDERFUL EXAMPLE OF T...\n",
            "3266    The Bad Boys of Hollywood as you have never se...\n",
            "3267    I have been buying HiTec for years When I foun...\n",
            "3268    I received my HiTec Altitude boots and am very...\n",
            "3269    The Fours recently purchased are just as comfo...\n",
            "Name: Body, Length: 3270, dtype: object\n"
          ]
        }
      ]
    },
    {
      "cell_type": "code",
      "source": [
        "# Normalize the 'cleaned reviews' and print 'normalized reviews'\n",
        "normalized_reviews = cleaned_reviews.str.lower()\n",
        "print(normalized_reviews)"
      ],
      "metadata": {
        "id": "15T_Tdre3ZkM",
        "colab": {
          "base_uri": "https://localhost:8080/"
        },
        "outputId": "ec6ef051-7e07-4ae2-b091-1c16da7dd836"
      },
      "execution_count": 8,
      "outputs": [
        {
          "output_type": "stream",
          "name": "stdout",
          "text": [
            "0       this sound track was beautiful it paints the s...\n",
            "1       im reading a lot of reviews saying that this i...\n",
            "2       this soundtrack is my favorite music of all ti...\n",
            "3       i truly like this soundtrack and i enjoy video...\n",
            "4       if youve played the game you know how divine t...\n",
            "                              ...                        \n",
            "3265    electric sykchurch is a wonderful example of t...\n",
            "3266    the bad boys of hollywood as you have never se...\n",
            "3267    i have been buying hitec for years when i foun...\n",
            "3268    i received my hitec altitude boots and am very...\n",
            "3269    the fours recently purchased are just as comfo...\n",
            "Name: Body, Length: 3270, dtype: object\n"
          ]
        }
      ]
    },
    {
      "cell_type": "code",
      "source": [
        "# Stopwords set to English language\n",
        "stop_words = set(stopwords.words('english'))\n",
        "\n",
        "# Define removal of stop words\n",
        "def remove_stop_words(text):\n",
        "    # Tokenize the text into single words\n",
        "    words = text.split()\n",
        "\n",
        "    # Removes stop words, can also be done as for loop\n",
        "    filtered_words = [word for word in words if word not in stop_words]\n",
        "\n",
        "    # Join is used to get the filtered words as a string\n",
        "    filtered_text = ' '.join(filtered_words)\n",
        "    return filtered_text\n",
        "\n",
        "# remove stop words is applied and prints processed reviews\n",
        "processed_reviews = normalized_reviews.apply(remove_stop_words)\n",
        "print(processed_reviews)"
      ],
      "metadata": {
        "id": "Dblkiah13bz0",
        "colab": {
          "base_uri": "https://localhost:8080/"
        },
        "outputId": "b0390a4c-d8a3-4bd2-930c-a4df8a8e7dc8"
      },
      "execution_count": 21,
      "outputs": [
        {
          "output_type": "stream",
          "name": "stdout",
          "text": [
            "0       sound track beautiful paints senery mind well ...\n",
            "1       im reading lot reviews saying best game soundt...\n",
            "2       soundtrack favorite music time hands intense s...\n",
            "3       truly like soundtrack enjoy video game music p...\n",
            "4       youve played game know divine music every sing...\n",
            "                              ...                        \n",
            "3265    electric sykchurch wonderful example todays ra...\n",
            "3266    bad boys hollywood never seen beforethis speci...\n",
            "3267    buying hitec years found altitude iv fell love...\n",
            "3268    received hitec altitude boots pleased purchase...\n",
            "3269    fours recently purchased comfortable supportiv...\n",
            "Name: Body, Length: 3270, dtype: object\n"
          ]
        }
      ]
    },
    {
      "cell_type": "markdown",
      "source": [],
      "metadata": {
        "id": "30iazLeUvKRM"
      }
    }
  ]
}